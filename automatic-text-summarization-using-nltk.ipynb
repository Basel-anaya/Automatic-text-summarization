{
 "cells": [
  {
   "cell_type": "markdown",
   "metadata": {
    "papermill": {
     "duration": 0.020306,
     "end_time": "2022-12-10T20:57:35.006296",
     "exception": false,
     "start_time": "2022-12-10T20:57:34.985990",
     "status": "completed"
    },
    "tags": []
   },
   "source": [
    "# Automatic text summarization\n",
    "## Introduction\n",
    "\n",
    "Text Summarization is one of those applications of Natural Language Processing (NLP) which is bound to have a huge impact on our lives. With growing digital media and ever growing publishing – who has the time to go through entire articles / documents / books to decide whether they are useful or not? Thankfully – this technology is already here.\n",
    "\n",
    "Have you come across the mobile app inshorts? It’s an innovative news app that converts news articles into a 60-word summary. And that is exactly what we are going to learn in this article — Automatic Text Summarization.\n",
    "\n",
    "Automatic Text Summarization is one of the most challenging and interesting problems in the field of Natural Language Processing (NLP). It is a process of generating a concise and meaningful summary of text from multiple text resources such as books, news articles, blog posts, research papers, emails, and tweets.\n",
    "\n",
    "The demand for automatic text summarization systems is spiking these days thanks to the availability of large amounts of textual data.\n",
    "\n",
    "Through this article, we will explore the realms of text summarization. We will understand how the TextRank algorithm works, and will also implement it in Python. Strap in, this is going to be a fun ride!\n",
    "\n",
    "## Understanding the TextRank Algorithm\n",
    "\n",
    "Before getting started with the TextRank algorithm, there’s another algorithm which we should become familiar with – the PageRank algorithm. In fact, this actually inspired TextRank! PageRank is used primarily for ranking web pages in online search results. Let’s quickly understand the basics of this algorithm with the help of an example.\n",
    "\n",
    "![](https://cdn.analyticsvidhya.com/wp-content/uploads/2018/10/Pagerank11.png)\n",
    "\n",
    "\n",
    "## TextRank Algorithm\n",
    "\n",
    "Let’s understand the TextRank algorithm, now that we have a grasp on PageRank. I have listed the similarities between these two algorithms below:\n",
    "\n",
    "In place of web pages, we use sentences\n",
    "Similarity between any two sentences is used as an equivalent to the web page transition probability\n",
    "The similarity scores are stored in a square matrix, similar to the matrix M used for PageRank\n",
    "TextRank is an extractive and unsupervised text summarization technique. Let’s take a look at the flow of the TextRank algorithm that we will be following:\n",
    "\n",
    "![](https://cdn.analyticsvidhya.com/wp-content/uploads/2018/10/block_3.png)\n",
    "\n",
    "\n",
    "\n",
    "\n",
    " \n",
    "\n",
    " \n"
   ]
  },
  {
   "cell_type": "markdown",
   "metadata": {
    "papermill": {
     "duration": 0.017585,
     "end_time": "2022-12-10T20:57:35.042340",
     "exception": false,
     "start_time": "2022-12-10T20:57:35.024755",
     "status": "completed"
    },
    "tags": []
   },
   "source": [
    "## Importing necessary Libraries"
   ]
  },
  {
   "cell_type": "code",
   "execution_count": 1,
   "metadata": {
    "_cell_guid": "b1076dfc-b9ad-4769-8c92-a6c4dae69d19",
    "_uuid": "8f2839f25d086af736a60e9eeb907d3b93b6e0e5",
    "execution": {
     "iopub.execute_input": "2022-12-10T20:57:35.082863Z",
     "iopub.status.busy": "2022-12-10T20:57:35.081779Z",
     "iopub.status.idle": "2022-12-10T20:57:36.920879Z",
     "shell.execute_reply": "2022-12-10T20:57:36.919874Z",
     "shell.execute_reply.started": "2022-12-10T20:54:34.862020Z"
    },
    "papermill": {
     "duration": 1.860919,
     "end_time": "2022-12-10T20:57:36.921143",
     "exception": false,
     "start_time": "2022-12-10T20:57:35.060224",
     "status": "completed"
    },
    "tags": []
   },
   "outputs": [],
   "source": [
    "import numpy as np\n",
    "import pandas as pd\n",
    "import warnings\n",
    "import re\n",
    "import nltk\n",
    "from nltk import word_tokenize\n",
    "from nltk.tokenize import sent_tokenize\n",
    "from textblob import TextBlob\n",
    "import string\n",
    "from string import punctuation\n",
    "from nltk.corpus import stopwords\n",
    "from statistics import mean\n",
    "from heapq import nlargest\n",
    "from wordcloud import WordCloud\n",
    "import seaborn as sns\n",
    "import matplotlib.pyplot as plt\n",
    "\n",
    "stop_words = set(stopwords.words('english'))\n",
    "punctuation = punctuation + '\\n' + '—' + '“' + ',' + '”' + '‘' + '-' + '’'\n",
    "warnings.filterwarnings('ignore')"
   ]
  },
  {
   "cell_type": "markdown",
   "metadata": {
    "papermill": {
     "duration": 0.017229,
     "end_time": "2022-12-10T20:57:36.956314",
     "exception": false,
     "start_time": "2022-12-10T20:57:36.939085",
     "status": "completed"
    },
    "tags": []
   },
   "source": [
    "## Reading the Dataset"
   ]
  },
  {
   "cell_type": "code",
   "execution_count": 2,
   "metadata": {
    "execution": {
     "iopub.execute_input": "2022-12-10T20:57:37.002914Z",
     "iopub.status.busy": "2022-12-10T20:57:37.002207Z",
     "iopub.status.idle": "2022-12-10T20:57:55.117197Z",
     "shell.execute_reply": "2022-12-10T20:57:55.116000Z",
     "shell.execute_reply.started": "2022-12-10T20:54:43.650446Z"
    },
    "papermill": {
     "duration": 18.14361,
     "end_time": "2022-12-10T20:57:55.117384",
     "exception": false,
     "start_time": "2022-12-10T20:57:36.973774",
     "status": "completed"
    },
    "tags": []
   },
   "outputs": [],
   "source": [
    "# Importing the dataset\n",
    "df_1 = pd.read_csv(\"/kaggle/input/all-the-news/articles1.csv\")\n",
    "df_2 = pd.read_csv(\"/kaggle/input/all-the-news/articles2.csv\")\n",
    "df_3 = pd.read_csv(\"/kaggle/input/all-the-news/articles3.csv\")"
   ]
  },
  {
   "cell_type": "code",
   "execution_count": 3,
   "metadata": {
    "execution": {
     "iopub.execute_input": "2022-12-10T20:57:55.159609Z",
     "iopub.status.busy": "2022-12-10T20:57:55.158909Z",
     "iopub.status.idle": "2022-12-10T20:57:55.162729Z",
     "shell.execute_reply": "2022-12-10T20:57:55.162110Z",
     "shell.execute_reply.started": "2022-12-10T20:54:59.688717Z"
    },
    "papermill": {
     "duration": 0.027974,
     "end_time": "2022-12-10T20:57:55.162874",
     "exception": false,
     "start_time": "2022-12-10T20:57:55.134900",
     "status": "completed"
    },
    "tags": []
   },
   "outputs": [
    {
     "data": {
      "text/plain": [
       "array([ True,  True,  True,  True,  True,  True,  True,  True,  True,\n",
       "        True])"
      ]
     },
     "execution_count": 3,
     "metadata": {},
     "output_type": "execute_result"
    }
   ],
   "source": [
    "# Checking if the columns are same or not\n",
    "df_1.columns == df_2.columns"
   ]
  },
  {
   "cell_type": "code",
   "execution_count": 4,
   "metadata": {
    "execution": {
     "iopub.execute_input": "2022-12-10T20:57:55.205494Z",
     "iopub.status.busy": "2022-12-10T20:57:55.204787Z",
     "iopub.status.idle": "2022-12-10T20:57:55.209117Z",
     "shell.execute_reply": "2022-12-10T20:57:55.208561Z",
     "shell.execute_reply.started": "2022-12-10T20:55:09.766274Z"
    },
    "papermill": {
     "duration": 0.028267,
     "end_time": "2022-12-10T20:57:55.209271",
     "exception": false,
     "start_time": "2022-12-10T20:57:55.181004",
     "status": "completed"
    },
    "tags": []
   },
   "outputs": [
    {
     "data": {
      "text/plain": [
       "array([ True,  True,  True,  True,  True,  True,  True,  True,  True,\n",
       "        True])"
      ]
     },
     "execution_count": 4,
     "metadata": {},
     "output_type": "execute_result"
    }
   ],
   "source": [
    "# Checking if the columns are same or not\n",
    "df_2.columns == df_3.columns"
   ]
  },
  {
   "cell_type": "code",
   "execution_count": 5,
   "metadata": {
    "execution": {
     "iopub.execute_input": "2022-12-10T20:57:55.253071Z",
     "iopub.status.busy": "2022-12-10T20:57:55.252349Z",
     "iopub.status.idle": "2022-12-10T20:57:55.325374Z",
     "shell.execute_reply": "2022-12-10T20:57:55.324780Z",
     "shell.execute_reply.started": "2022-12-10T20:55:09.995488Z"
    },
    "papermill": {
     "duration": 0.098158,
     "end_time": "2022-12-10T20:57:55.325551",
     "exception": false,
     "start_time": "2022-12-10T20:57:55.227393",
     "status": "completed"
    },
    "tags": []
   },
   "outputs": [],
   "source": [
    "# Making one Dataframe by appending all of them for the further process\n",
    "d = [df_1, df_2, df_3]\n",
    "df = pd.concat(d, keys = ['x', 'y', 'z'])\n",
    "df.rename(columns = {'content' : 'article'}, inplace = True);"
   ]
  },
  {
   "cell_type": "code",
   "execution_count": 6,
   "metadata": {
    "execution": {
     "iopub.execute_input": "2022-12-10T20:57:55.369484Z",
     "iopub.status.busy": "2022-12-10T20:57:55.367507Z",
     "iopub.status.idle": "2022-12-10T20:57:55.393675Z",
     "shell.execute_reply": "2022-12-10T20:57:55.393016Z",
     "shell.execute_reply.started": "2022-12-10T20:55:10.203684Z"
    },
    "papermill": {
     "duration": 0.050018,
     "end_time": "2022-12-10T20:57:55.393822",
     "exception": false,
     "start_time": "2022-12-10T20:57:55.343804",
     "status": "completed"
    },
    "tags": []
   },
   "outputs": [
    {
     "data": {
      "text/html": [
       "<div>\n",
       "<style scoped>\n",
       "    .dataframe tbody tr th:only-of-type {\n",
       "        vertical-align: middle;\n",
       "    }\n",
       "\n",
       "    .dataframe tbody tr th {\n",
       "        vertical-align: top;\n",
       "    }\n",
       "\n",
       "    .dataframe thead th {\n",
       "        text-align: right;\n",
       "    }\n",
       "</style>\n",
       "<table border=\"1\" class=\"dataframe\">\n",
       "  <thead>\n",
       "    <tr style=\"text-align: right;\">\n",
       "      <th></th>\n",
       "      <th></th>\n",
       "      <th>Unnamed: 0</th>\n",
       "      <th>id</th>\n",
       "      <th>title</th>\n",
       "      <th>publication</th>\n",
       "      <th>author</th>\n",
       "      <th>date</th>\n",
       "      <th>year</th>\n",
       "      <th>month</th>\n",
       "      <th>url</th>\n",
       "      <th>article</th>\n",
       "    </tr>\n",
       "  </thead>\n",
       "  <tbody>\n",
       "    <tr>\n",
       "      <th rowspan=\"5\" valign=\"top\">x</th>\n",
       "      <th>0</th>\n",
       "      <td>0</td>\n",
       "      <td>17283</td>\n",
       "      <td>House Republicans Fret About Winning Their Hea...</td>\n",
       "      <td>New York Times</td>\n",
       "      <td>Carl Hulse</td>\n",
       "      <td>2016-12-31</td>\n",
       "      <td>2016.0</td>\n",
       "      <td>12.0</td>\n",
       "      <td>NaN</td>\n",
       "      <td>WASHINGTON  —   Congressional Republicans have...</td>\n",
       "    </tr>\n",
       "    <tr>\n",
       "      <th>1</th>\n",
       "      <td>1</td>\n",
       "      <td>17284</td>\n",
       "      <td>Rift Between Officers and Residents as Killing...</td>\n",
       "      <td>New York Times</td>\n",
       "      <td>Benjamin Mueller and Al Baker</td>\n",
       "      <td>2017-06-19</td>\n",
       "      <td>2017.0</td>\n",
       "      <td>6.0</td>\n",
       "      <td>NaN</td>\n",
       "      <td>After the bullet shells get counted, the blood...</td>\n",
       "    </tr>\n",
       "    <tr>\n",
       "      <th>2</th>\n",
       "      <td>2</td>\n",
       "      <td>17285</td>\n",
       "      <td>Tyrus Wong, ‘Bambi’ Artist Thwarted by Racial ...</td>\n",
       "      <td>New York Times</td>\n",
       "      <td>Margalit Fox</td>\n",
       "      <td>2017-01-06</td>\n",
       "      <td>2017.0</td>\n",
       "      <td>1.0</td>\n",
       "      <td>NaN</td>\n",
       "      <td>When Walt Disney’s “Bambi” opened in 1942, cri...</td>\n",
       "    </tr>\n",
       "    <tr>\n",
       "      <th>3</th>\n",
       "      <td>3</td>\n",
       "      <td>17286</td>\n",
       "      <td>Among Deaths in 2016, a Heavy Toll in Pop Musi...</td>\n",
       "      <td>New York Times</td>\n",
       "      <td>William McDonald</td>\n",
       "      <td>2017-04-10</td>\n",
       "      <td>2017.0</td>\n",
       "      <td>4.0</td>\n",
       "      <td>NaN</td>\n",
       "      <td>Death may be the great equalizer, but it isn’t...</td>\n",
       "    </tr>\n",
       "    <tr>\n",
       "      <th>4</th>\n",
       "      <td>4</td>\n",
       "      <td>17287</td>\n",
       "      <td>Kim Jong-un Says North Korea Is Preparing to T...</td>\n",
       "      <td>New York Times</td>\n",
       "      <td>Choe Sang-Hun</td>\n",
       "      <td>2017-01-02</td>\n",
       "      <td>2017.0</td>\n",
       "      <td>1.0</td>\n",
       "      <td>NaN</td>\n",
       "      <td>SEOUL, South Korea  —   North Korea’s leader, ...</td>\n",
       "    </tr>\n",
       "  </tbody>\n",
       "</table>\n",
       "</div>"
      ],
      "text/plain": [
       "     Unnamed: 0     id                                              title  \\\n",
       "x 0           0  17283  House Republicans Fret About Winning Their Hea...   \n",
       "  1           1  17284  Rift Between Officers and Residents as Killing...   \n",
       "  2           2  17285  Tyrus Wong, ‘Bambi’ Artist Thwarted by Racial ...   \n",
       "  3           3  17286  Among Deaths in 2016, a Heavy Toll in Pop Musi...   \n",
       "  4           4  17287  Kim Jong-un Says North Korea Is Preparing to T...   \n",
       "\n",
       "        publication                         author        date    year  month  \\\n",
       "x 0  New York Times                     Carl Hulse  2016-12-31  2016.0   12.0   \n",
       "  1  New York Times  Benjamin Mueller and Al Baker  2017-06-19  2017.0    6.0   \n",
       "  2  New York Times                   Margalit Fox  2017-01-06  2017.0    1.0   \n",
       "  3  New York Times               William McDonald  2017-04-10  2017.0    4.0   \n",
       "  4  New York Times                  Choe Sang-Hun  2017-01-02  2017.0    1.0   \n",
       "\n",
       "     url                                            article  \n",
       "x 0  NaN  WASHINGTON  —   Congressional Republicans have...  \n",
       "  1  NaN  After the bullet shells get counted, the blood...  \n",
       "  2  NaN  When Walt Disney’s “Bambi” opened in 1942, cri...  \n",
       "  3  NaN  Death may be the great equalizer, but it isn’t...  \n",
       "  4  NaN  SEOUL, South Korea  —   North Korea’s leader, ...  "
      ]
     },
     "execution_count": 6,
     "metadata": {},
     "output_type": "execute_result"
    }
   ],
   "source": [
    "df.head()"
   ]
  },
  {
   "cell_type": "code",
   "execution_count": 7,
   "metadata": {
    "execution": {
     "iopub.execute_input": "2022-12-10T20:57:55.436692Z",
     "iopub.status.busy": "2022-12-10T20:57:55.435791Z",
     "iopub.status.idle": "2022-12-10T20:57:55.439549Z",
     "shell.execute_reply": "2022-12-10T20:57:55.440098Z",
     "shell.execute_reply.started": "2022-12-10T20:55:10.404303Z"
    },
    "papermill": {
     "duration": 0.027738,
     "end_time": "2022-12-10T20:57:55.440290",
     "exception": false,
     "start_time": "2022-12-10T20:57:55.412552",
     "status": "completed"
    },
    "tags": []
   },
   "outputs": [
    {
     "name": "stdout",
     "output_type": "stream",
     "text": [
      "The shape of the dataset :  (142570, 10)\n"
     ]
    }
   ],
   "source": [
    "# Shape of the dataset\n",
    "print (\"The shape of the dataset : \", df.shape)"
   ]
  },
  {
   "cell_type": "code",
   "execution_count": 8,
   "metadata": {
    "execution": {
     "iopub.execute_input": "2022-12-10T20:57:55.522058Z",
     "iopub.status.busy": "2022-12-10T20:57:55.503501Z",
     "iopub.status.idle": "2022-12-10T20:57:55.575276Z",
     "shell.execute_reply": "2022-12-10T20:57:55.574615Z",
     "shell.execute_reply.started": "2022-12-10T20:55:10.609700Z"
    },
    "papermill": {
     "duration": 0.115135,
     "end_time": "2022-12-10T20:57:55.575442",
     "exception": false,
     "start_time": "2022-12-10T20:57:55.460307",
     "status": "completed"
    },
    "tags": []
   },
   "outputs": [
    {
     "data": {
      "text/html": [
       "<div>\n",
       "<style scoped>\n",
       "    .dataframe tbody tr th:only-of-type {\n",
       "        vertical-align: middle;\n",
       "    }\n",
       "\n",
       "    .dataframe tbody tr th {\n",
       "        vertical-align: top;\n",
       "    }\n",
       "\n",
       "    .dataframe thead th {\n",
       "        text-align: right;\n",
       "    }\n",
       "</style>\n",
       "<table border=\"1\" class=\"dataframe\">\n",
       "  <thead>\n",
       "    <tr style=\"text-align: right;\">\n",
       "      <th></th>\n",
       "      <th></th>\n",
       "      <th>id</th>\n",
       "      <th>title</th>\n",
       "      <th>publication</th>\n",
       "      <th>author</th>\n",
       "      <th>date</th>\n",
       "      <th>year</th>\n",
       "      <th>month</th>\n",
       "      <th>url</th>\n",
       "      <th>article</th>\n",
       "    </tr>\n",
       "  </thead>\n",
       "  <tbody>\n",
       "    <tr>\n",
       "      <th rowspan=\"5\" valign=\"top\">x</th>\n",
       "      <th>0</th>\n",
       "      <td>17283</td>\n",
       "      <td>House Republicans Fret About Winning Their Hea...</td>\n",
       "      <td>New York Times</td>\n",
       "      <td>Carl Hulse</td>\n",
       "      <td>2016-12-31</td>\n",
       "      <td>2016.0</td>\n",
       "      <td>12.0</td>\n",
       "      <td>NaN</td>\n",
       "      <td>WASHINGTON  —   Congressional Republicans have...</td>\n",
       "    </tr>\n",
       "    <tr>\n",
       "      <th>1</th>\n",
       "      <td>17284</td>\n",
       "      <td>Rift Between Officers and Residents as Killing...</td>\n",
       "      <td>New York Times</td>\n",
       "      <td>Benjamin Mueller and Al Baker</td>\n",
       "      <td>2017-06-19</td>\n",
       "      <td>2017.0</td>\n",
       "      <td>6.0</td>\n",
       "      <td>NaN</td>\n",
       "      <td>After the bullet shells get counted, the blood...</td>\n",
       "    </tr>\n",
       "    <tr>\n",
       "      <th>2</th>\n",
       "      <td>17285</td>\n",
       "      <td>Tyrus Wong, ‘Bambi’ Artist Thwarted by Racial ...</td>\n",
       "      <td>New York Times</td>\n",
       "      <td>Margalit Fox</td>\n",
       "      <td>2017-01-06</td>\n",
       "      <td>2017.0</td>\n",
       "      <td>1.0</td>\n",
       "      <td>NaN</td>\n",
       "      <td>When Walt Disney’s “Bambi” opened in 1942, cri...</td>\n",
       "    </tr>\n",
       "    <tr>\n",
       "      <th>3</th>\n",
       "      <td>17286</td>\n",
       "      <td>Among Deaths in 2016, a Heavy Toll in Pop Musi...</td>\n",
       "      <td>New York Times</td>\n",
       "      <td>William McDonald</td>\n",
       "      <td>2017-04-10</td>\n",
       "      <td>2017.0</td>\n",
       "      <td>4.0</td>\n",
       "      <td>NaN</td>\n",
       "      <td>Death may be the great equalizer, but it isn’t...</td>\n",
       "    </tr>\n",
       "    <tr>\n",
       "      <th>4</th>\n",
       "      <td>17287</td>\n",
       "      <td>Kim Jong-un Says North Korea Is Preparing to T...</td>\n",
       "      <td>New York Times</td>\n",
       "      <td>Choe Sang-Hun</td>\n",
       "      <td>2017-01-02</td>\n",
       "      <td>2017.0</td>\n",
       "      <td>1.0</td>\n",
       "      <td>NaN</td>\n",
       "      <td>SEOUL, South Korea  —   North Korea’s leader, ...</td>\n",
       "    </tr>\n",
       "  </tbody>\n",
       "</table>\n",
       "</div>"
      ],
      "text/plain": [
       "        id                                              title     publication  \\\n",
       "x 0  17283  House Republicans Fret About Winning Their Hea...  New York Times   \n",
       "  1  17284  Rift Between Officers and Residents as Killing...  New York Times   \n",
       "  2  17285  Tyrus Wong, ‘Bambi’ Artist Thwarted by Racial ...  New York Times   \n",
       "  3  17286  Among Deaths in 2016, a Heavy Toll in Pop Musi...  New York Times   \n",
       "  4  17287  Kim Jong-un Says North Korea Is Preparing to T...  New York Times   \n",
       "\n",
       "                            author        date    year  month  url  \\\n",
       "x 0                     Carl Hulse  2016-12-31  2016.0   12.0  NaN   \n",
       "  1  Benjamin Mueller and Al Baker  2017-06-19  2017.0    6.0  NaN   \n",
       "  2                   Margalit Fox  2017-01-06  2017.0    1.0  NaN   \n",
       "  3               William McDonald  2017-04-10  2017.0    4.0  NaN   \n",
       "  4                  Choe Sang-Hun  2017-01-02  2017.0    1.0  NaN   \n",
       "\n",
       "                                               article  \n",
       "x 0  WASHINGTON  —   Congressional Republicans have...  \n",
       "  1  After the bullet shells get counted, the blood...  \n",
       "  2  When Walt Disney’s “Bambi” opened in 1942, cri...  \n",
       "  3  Death may be the great equalizer, but it isn’t...  \n",
       "  4  SEOUL, South Korea  —   North Korea’s leader, ...  "
      ]
     },
     "execution_count": 8,
     "metadata": {},
     "output_type": "execute_result"
    }
   ],
   "source": [
    "# Dropping the unnecessary columns\n",
    "df.drop(columns = ['Unnamed: 0'], inplace = True)\n",
    "df.head()"
   ]
  },
  {
   "cell_type": "code",
   "execution_count": 9,
   "metadata": {
    "execution": {
     "iopub.execute_input": "2022-12-10T20:57:55.647457Z",
     "iopub.status.busy": "2022-12-10T20:57:55.630055Z",
     "iopub.status.idle": "2022-12-10T20:57:56.082497Z",
     "shell.execute_reply": "2022-12-10T20:57:56.081890Z",
     "shell.execute_reply.started": "2022-12-10T20:55:10.873761Z"
    },
    "papermill": {
     "duration": 0.484564,
     "end_time": "2022-12-10T20:57:56.082651",
     "exception": false,
     "start_time": "2022-12-10T20:57:55.598087",
     "status": "completed"
    },
    "tags": []
   },
   "outputs": [
    {
     "data": {
      "text/plain": [
       "[Text(0.5, 0, 'Publication'),\n",
       " Text(0, 0.5, 'Count'),\n",
       " Text(0.5, 1.0, 'Distribution of Publication according')]"
      ]
     },
     "execution_count": 9,
     "metadata": {},
     "output_type": "execute_result"
    },
    {
     "data": {
      "image/png": "[encoded data removed]",
      "text/plain": [
       "<Figure size 1080x576 with 1 Axes>"
      ]
     },
     "metadata": {},
     "output_type": "display_data"
    }
   ],
   "source": [
    "# Countplot shows the distribution of Publication\n",
    "plt.rcParams['figure.figsize'] = [15, 8]\n",
    "sns.set(font_scale = 1.2, style = 'darkgrid')\n",
    "sns_year = sns.countplot(df['publication'], color = 'darkcyan')\n",
    "plt.xticks(rotation=45)\n",
    "sns_year.set(xlabel = \"Publication\", ylabel = \"Count\", title = \"Distribution of Publication according\")"
   ]
  },
  {
   "cell_type": "markdown",
   "metadata": {
    "papermill": {
     "duration": 0.02163,
     "end_time": "2022-12-10T20:57:56.126465",
     "exception": false,
     "start_time": "2022-12-10T20:57:56.104835",
     "status": "completed"
    },
    "tags": []
   },
   "source": [
    "---"
   ]
  },
  {
   "cell_type": "markdown",
   "metadata": {
    "papermill": {
     "duration": 0.021525,
     "end_time": "2022-12-10T20:57:56.170723",
     "exception": false,
     "start_time": "2022-12-10T20:57:56.149198",
     "status": "completed"
    },
    "tags": []
   },
   "source": [
    "## Exploratory Data Analysis"
   ]
  },
  {
   "cell_type": "code",
   "execution_count": 10,
   "metadata": {
    "execution": {
     "iopub.execute_input": "2022-12-10T20:57:56.222468Z",
     "iopub.status.busy": "2022-12-10T20:57:56.221611Z",
     "iopub.status.idle": "2022-12-10T20:57:56.224498Z",
     "shell.execute_reply": "2022-12-10T20:57:56.225083Z",
     "shell.execute_reply.started": "2022-12-10T20:55:13.432455Z"
    },
    "papermill": {
     "duration": 0.031185,
     "end_time": "2022-12-10T20:57:56.225273",
     "exception": false,
     "start_time": "2022-12-10T20:57:56.194088",
     "status": "completed"
    },
    "tags": []
   },
   "outputs": [],
   "source": [
    "# Replacing the unnecessary row value of year with it's actual values\n",
    "df['year'] = df['year'].replace(\"https://www.washingtonpost.com/outlook/tale-of-a-woman-who-died-and-a-woman-who-killed-in-the-northern-ireland-conflict/2019/03/08/59e75dd4-2ecd-11e9-8ad3-9a5b113ecd3c_story.html\", 2019)"
   ]
  },
  {
   "cell_type": "code",
   "execution_count": 11,
   "metadata": {
    "execution": {
     "iopub.execute_input": "2022-12-10T20:57:56.273039Z",
     "iopub.status.busy": "2022-12-10T20:57:56.272039Z",
     "iopub.status.idle": "2022-12-10T20:57:56.285227Z",
     "shell.execute_reply": "2022-12-10T20:57:56.285741Z",
     "shell.execute_reply.started": "2022-12-10T20:55:13.652450Z"
    },
    "papermill": {
     "duration": 0.03886,
     "end_time": "2022-12-10T20:57:56.285936",
     "exception": false,
     "start_time": "2022-12-10T20:57:56.247076",
     "status": "completed"
    },
    "tags": []
   },
   "outputs": [
    {
     "data": {
      "text/plain": [
       "2016.0    85405\n",
       "2017.0    50404\n",
       "2015.0     3705\n",
       "2013.0      228\n",
       "2014.0      125\n",
       "2012.0       34\n",
       "2011.0        8\n",
       "2010.0        6\n",
       "2008.0        3\n",
       "2009.0        3\n",
       "2004.0        2\n",
       "2003.0        2\n",
       "2005.0        2\n",
       "2007.0        1\n",
       "2000.0        1\n",
       "Name: year, dtype: int64"
      ]
     },
     "execution_count": 11,
     "metadata": {},
     "output_type": "execute_result"
    }
   ],
   "source": [
    "# Years\n",
    "df['year'].value_counts()"
   ]
  },
  {
   "cell_type": "code",
   "execution_count": 12,
   "metadata": {
    "execution": {
     "iopub.execute_input": "2022-12-10T20:57:56.334167Z",
     "iopub.status.busy": "2022-12-10T20:57:56.333186Z",
     "iopub.status.idle": "2022-12-10T20:57:56.670281Z",
     "shell.execute_reply": "2022-12-10T20:57:56.670815Z",
     "shell.execute_reply.started": "2022-12-10T20:55:13.879495Z"
    },
    "papermill": {
     "duration": 0.362955,
     "end_time": "2022-12-10T20:57:56.671017",
     "exception": false,
     "start_time": "2022-12-10T20:57:56.308062",
     "status": "completed"
    },
    "tags": []
   },
   "outputs": [
    {
     "data": {
      "text/plain": [
       "[Text(0.5, 0, 'Year'),\n",
       " Text(0, 0.5, 'Count'),\n",
       " Text(0.5, 1.0, 'Distribution of the articles according to the year')]"
      ]
     },
     "execution_count": 12,
     "metadata": {},
     "output_type": "execute_result"
    },
    {
     "data": {
      "image/png": "[encoded data removed]",
      "text/plain": [
       "<Figure size 1080x576 with 1 Axes>"
      ]
     },
     "metadata": {},
     "output_type": "display_data"
    }
   ],
   "source": [
    "# Countplot shows the distribution of the articles according to the year\n",
    "plt.rcParams['figure.figsize'] = [15, 8]\n",
    "sns.set(font_scale = 1.2, style = 'whitegrid')\n",
    "sns_year = sns.countplot(df['year'], color = 'darkcyan')\n",
    "sns_year.set(xlabel = \"Year\", ylabel = \"Count\", title = \"Distribution of the articles according to the year\")"
   ]
  },
  {
   "cell_type": "code",
   "execution_count": 13,
   "metadata": {
    "execution": {
     "iopub.execute_input": "2022-12-10T20:57:56.745541Z",
     "iopub.status.busy": "2022-12-10T20:57:56.744235Z",
     "iopub.status.idle": "2022-12-10T20:57:56.757233Z",
     "shell.execute_reply": "2022-12-10T20:57:56.756535Z",
     "shell.execute_reply.started": "2022-12-10T20:55:14.214182Z"
    },
    "papermill": {
     "duration": 0.06153,
     "end_time": "2022-12-10T20:57:56.757397",
     "exception": false,
     "start_time": "2022-12-10T20:57:56.695867",
     "status": "completed"
    },
    "tags": []
   },
   "outputs": [
    {
     "data": {
      "text/plain": [
       "Breitbart News                              1559\n",
       "Pam Key                                     1282\n",
       "Associated Press                            1231\n",
       "Charlie Spiering                             928\n",
       "Jerome Hudson                                806\n",
       "                                            ... \n",
       "Alex Scordelis                                 1\n",
       "Melissa Scholes Young                          1\n",
       "Paola Singer                                   1\n",
       "Aleksandar Vasovic and Ivana Sekularac         1\n",
       "Richard Fausset and Jonah Engel Bromwich       1\n",
       "Name: author, Length: 15647, dtype: int64"
      ]
     },
     "execution_count": 13,
     "metadata": {},
     "output_type": "execute_result"
    }
   ],
   "source": [
    "# Authors\n",
    "df['author'].value_counts()"
   ]
  },
  {
   "cell_type": "code",
   "execution_count": 14,
   "metadata": {
    "execution": {
     "iopub.execute_input": "2022-12-10T20:57:56.832609Z",
     "iopub.status.busy": "2022-12-10T20:57:56.823864Z",
     "iopub.status.idle": "2022-12-10T20:57:58.775389Z",
     "shell.execute_reply": "2022-12-10T20:57:58.775904Z",
     "shell.execute_reply.started": "2022-12-10T20:55:14.755635Z"
    },
    "papermill": {
     "duration": 1.993969,
     "end_time": "2022-12-10T20:57:58.776105",
     "exception": false,
     "start_time": "2022-12-10T20:57:56.782136",
     "status": "completed"
    },
    "tags": []
   },
   "outputs": [
    {
     "data": {
      "text/plain": [
       "[Text(0.5, 21.200000000000003, 'count'),\n",
       " Text(21.200000000000003, 0.5, 'author'),\n",
       " Text(0.5, 1.0, 'the most freq author')]"
      ]
     },
     "execution_count": 14,
     "metadata": {},
     "output_type": "execute_result"
    },
    {
     "data": {
      "image/png": "[encoded data removed]",
      "text/plain": [
       "<Figure size 1080x1080 with 1 Axes>"
      ]
     },
     "metadata": {},
     "output_type": "display_data"
    }
   ],
   "source": [
    "# Countplot shows the distribution of author\n",
    "plt.rcParams['figure.figsize'] = [15, 15]\n",
    "sns.set(font_scale = 1, style = 'whitegrid')\n",
    "df_author = df.author.value_counts().head(80)\n",
    "\n",
    "sns.barplot(df_author,df_author.index)\n",
    "sns_year.set(xlabel = \"count\", ylabel = \"author\", title = \"the most freq author\")"
   ]
  },
  {
   "cell_type": "code",
   "execution_count": 15,
   "metadata": {
    "execution": {
     "iopub.execute_input": "2022-12-10T20:57:58.836020Z",
     "iopub.status.busy": "2022-12-10T20:57:58.835142Z",
     "iopub.status.idle": "2022-12-10T20:57:58.845792Z",
     "shell.execute_reply": "2022-12-10T20:57:58.846408Z",
     "shell.execute_reply.started": "2022-12-10T20:55:16.251927Z"
    },
    "papermill": {
     "duration": 0.042294,
     "end_time": "2022-12-10T20:57:58.846610",
     "exception": false,
     "start_time": "2022-12-10T20:57:58.804316",
     "status": "completed"
    },
    "tags": []
   },
   "outputs": [],
   "source": [
    "# Changing the value \"The Associated Press\" to \"Associated Press\"\n",
    "df['author'] = df['author'].replace(\"The Associated Press\", \"Associated Press\")"
   ]
  },
  {
   "cell_type": "markdown",
   "metadata": {
    "papermill": {
     "duration": 0.029397,
     "end_time": "2022-12-10T20:57:58.904202",
     "exception": false,
     "start_time": "2022-12-10T20:57:58.874805",
     "status": "completed"
    },
    "tags": []
   },
   "source": [
    "---"
   ]
  },
  {
   "cell_type": "markdown",
   "metadata": {
    "papermill": {
     "duration": 0.027877,
     "end_time": "2022-12-10T20:57:58.960562",
     "exception": false,
     "start_time": "2022-12-10T20:57:58.932685",
     "status": "completed"
    },
    "tags": []
   },
   "source": [
    "## Making the Article Summarizer"
   ]
  },
  {
   "cell_type": "code",
   "execution_count": 16,
   "metadata": {
    "execution": {
     "iopub.execute_input": "2022-12-10T20:57:59.024065Z",
     "iopub.status.busy": "2022-12-10T20:57:59.022432Z",
     "iopub.status.idle": "2022-12-10T20:57:59.070064Z",
     "shell.execute_reply": "2022-12-10T20:57:59.070760Z",
     "shell.execute_reply.started": "2022-12-10T20:55:18.459068Z"
    },
    "papermill": {
     "duration": 0.082389,
     "end_time": "2022-12-10T20:57:59.070967",
     "exception": false,
     "start_time": "2022-12-10T20:57:58.988578",
     "status": "completed"
    },
    "tags": []
   },
   "outputs": [],
   "source": [
    "contractions_dict = { \n",
    "\"ain't\": \"am not\",\n",
    "\"aren't\": \"are not\",\n",
    "\"can't\": \"cannot\",\n",
    "\"can't've\": \"cannot have\",\n",
    "\"'cause\": \"because\",\n",
    "\"could've\": \"could have\",\n",
    "\"couldn't\": \"could not\",\n",
    "\"couldn't've\": \"could not have\",\n",
    "\"didn't\": \"did not\",\n",
    "\"doesn't\": \"does not\",\n",
    "\"doesn’t\": \"does not\",\n",
    "\"don't\": \"do not\",\n",
    "\"don’t\": \"do not\",\n",
    "\"hadn't\": \"had not\",\n",
    "\"hadn't've\": \"had not have\",\n",
    "\"hasn't\": \"has not\",\n",
    "\"haven't\": \"have not\",\n",
    "\"he'd\": \"he had\",\n",
    "\"he'd've\": \"he would have\",\n",
    "\"he'll\": \"he will\",\n",
    "\"he'll've\": \"he will have\",\n",
    "\"he's\": \"he is\",\n",
    "\"how'd\": \"how did\",\n",
    "\"how'd'y\": \"how do you\",\n",
    "\"how'll\": \"how will\",\n",
    "\"how's\": \"how is\",\n",
    "\"i'd\": \"i would\",\n",
    "\"i'd've\": \"i would have\",\n",
    "\"i'll\": \"i will\",\n",
    "\"i'll've\": \"i will have\",\n",
    "\"i'm\": \"i am\",\n",
    "\"i've\": \"i have\",\n",
    "\"isn't\": \"is not\",\n",
    "\"it'd\": \"it would\",\n",
    "\"it'd've\": \"it would have\",\n",
    "\"it'll\": \"it will\",\n",
    "\"it'll've\": \"it will have\",\n",
    "\"it's\": \"it is\",\n",
    "\"let's\": \"let us\",\n",
    "\"ma'am\": \"madam\",\n",
    "\"mayn't\": \"may not\",\n",
    "\"might've\": \"might have\",\n",
    "\"mightn't\": \"might not\",\n",
    "\"mightn't've\": \"might not have\",\n",
    "\"must've\": \"must have\",\n",
    "\"mustn't\": \"must not\",\n",
    "\"mustn't've\": \"must not have\",\n",
    "\"needn't\": \"need not\",\n",
    "\"needn't've\": \"need not have\",\n",
    "\"o'clock\": \"of the clock\",\n",
    "\"oughtn't\": \"ought not\",\n",
    "\"oughtn't've\": \"ought not have\",\n",
    "\"shan't\": \"shall not\",\n",
    "\"sha'n't\": \"shall not\",\n",
    "\"shan't've\": \"shall not have\",\n",
    "\"she'd\": \"she would\",\n",
    "\"she'd've\": \"she would have\",\n",
    "\"she'll\": \"she will\",\n",
    "\"she'll've\": \"she will have\",\n",
    "\"she's\": \"she is\",\n",
    "\"should've\": \"should have\",\n",
    "\"shouldn't\": \"should not\",\n",
    "\"shouldn't've\": \"should not have\",\n",
    "\"so've\": \"so have\",\n",
    "\"so's\": \"so is\",\n",
    "\"that'd\": \"that would\",\n",
    "\"that'd've\": \"that would have\",\n",
    "\"that's\": \"that is\",\n",
    "\"there'd\": \"there would\",\n",
    "\"there'd've\": \"there would have\",\n",
    "\"there's\": \"there is\",\n",
    "\"they'd\": \"they would\",\n",
    "\"they'd've\": \"they would have\",\n",
    "\"they'll\": \"they will\",\n",
    "\"they'll've\": \"they will have\",\n",
    "\"they're\": \"they are\",\n",
    "\"they've\": \"they have\",\n",
    "\"to've\": \"to have\",\n",
    "\"wasn't\": \"was not\",\n",
    "\"we'd\": \"we would\",\n",
    "\"we'd've\": \"we would have\",\n",
    "\"we'll\": \"we will\",\n",
    "\"we'll've\": \"we will have\",\n",
    "\"we're\": \"we are\",\n",
    "\"we've\": \"we have\",\n",
    "\"weren't\": \"were not\",\n",
    "\"what'll\": \"what will\",\n",
    "\"what'll've\": \"what will have\",\n",
    "\"what're\": \"what are\",\n",
    "\"what's\": \"what is\",\n",
    "\"what've\": \"what have\",\n",
    "\"when's\": \"when is\",\n",
    "\"when've\": \"when have\",\n",
    "\"where'd\": \"where did\",\n",
    "\"where's\": \"where is\",\n",
    "\"where've\": \"where have\",\n",
    "\"who'll\": \"who will\",\n",
    "\"who'll've\": \"who will have\",\n",
    "\"who's\": \"who is\",\n",
    "\"who've\": \"who have\",\n",
    "\"why's\": \"why is\",\n",
    "\"why've\": \"why have\",\n",
    "\"will've\": \"will have\",\n",
    "\"won't\": \"will not\",\n",
    "\"won't've\": \"will not have\",\n",
    "\"would've\": \"would have\",\n",
    "\"wouldn't\": \"would not\",\n",
    "\"wouldn't've\": \"would not have\",\n",
    "\"y'all\": \"you all\",\n",
    "\"y’all\": \"you all\",\n",
    "\"y'all'd\": \"you all would\",\n",
    "\"y'all'd've\": \"you all would have\",\n",
    "\"y'all're\": \"you all are\",\n",
    "\"y'all've\": \"you all have\",\n",
    "\"you'd\": \"you would\",\n",
    "\"you'd've\": \"you would have\",\n",
    "\"you'll\": \"you will\",\n",
    "\"you'll've\": \"you will have\",\n",
    "\"you're\": \"you are\",\n",
    "\"you've\": \"you have\",\n",
    "\"ain’t\": \"am not\",\n",
    "\"aren’t\": \"are not\",\n",
    "\"can’t\": \"cannot\",\n",
    "\"can’t’ve\": \"cannot have\",\n",
    "\"’cause\": \"because\",\n",
    "\"could’ve\": \"could have\",\n",
    "\"couldn’t\": \"could not\",\n",
    "\"couldn’t’ve\": \"could not have\",\n",
    "\"didn’t\": \"did not\",\n",
    "\"doesn’t\": \"does not\",\n",
    "\"don’t\": \"do not\",\n",
    "\"don’t\": \"do not\",\n",
    "\"hadn’t\": \"had not\",\n",
    "\"hadn’t’ve\": \"had not have\",\n",
    "\"hasn’t\": \"has not\",\n",
    "\"haven’t\": \"have not\",\n",
    "\"he’d\": \"he had\",\n",
    "\"he’d’ve\": \"he would have\",\n",
    "\"he’ll\": \"he will\",\n",
    "\"he’ll’ve\": \"he will have\",\n",
    "\"he’s\": \"he is\",\n",
    "\"how’d\": \"how did\",\n",
    "\"how’d’y\": \"how do you\",\n",
    "\"how’ll\": \"how will\",\n",
    "\"how’s\": \"how is\",\n",
    "\"i’d\": \"i would\",\n",
    "\"i’d’ve\": \"i would have\",\n",
    "\"i’ll\": \"i will\",\n",
    "\"i’ll’ve\": \"i will have\",\n",
    "\"i’m\": \"i am\",\n",
    "\"i’ve\": \"i have\",\n",
    "\"isn’t\": \"is not\",\n",
    "\"it’d\": \"it would\",\n",
    "\"it’d’ve\": \"it would have\",\n",
    "\"it’ll\": \"it will\",\n",
    "\"it’ll’ve\": \"it will have\",\n",
    "\"it’s\": \"it is\",\n",
    "\"let’s\": \"let us\",\n",
    "\"ma’am\": \"madam\",\n",
    "\"mayn’t\": \"may not\",\n",
    "\"might’ve\": \"might have\",\n",
    "\"mightn’t\": \"might not\",\n",
    "\"mightn’t’ve\": \"might not have\",\n",
    "\"must’ve\": \"must have\",\n",
    "\"mustn’t\": \"must not\",\n",
    "\"mustn’t’ve\": \"must not have\",\n",
    "\"needn’t\": \"need not\",\n",
    "\"needn’t’ve\": \"need not have\",\n",
    "\"o’clock\": \"of the clock\",\n",
    "\"oughtn’t\": \"ought not\",\n",
    "\"oughtn’t’ve\": \"ought not have\",\n",
    "\"shan’t\": \"shall not\",\n",
    "\"sha’n’t\": \"shall not\",\n",
    "\"shan’t’ve\": \"shall not have\",\n",
    "\"she’d\": \"she would\",\n",
    "\"she’d’ve\": \"she would have\",\n",
    "\"she’ll\": \"she will\",\n",
    "\"she’ll’ve\": \"she will have\",\n",
    "\"she’s\": \"she is\",\n",
    "\"should’ve\": \"should have\",\n",
    "\"shouldn’t\": \"should not\",\n",
    "\"shouldn’t’ve\": \"should not have\",\n",
    "\"so’ve\": \"so have\",\n",
    "\"so’s\": \"so is\",\n",
    "\"that’d\": \"that would\",\n",
    "\"that’d’ve\": \"that would have\",\n",
    "\"that’s\": \"that is\",\n",
    "\"there’d\": \"there would\",\n",
    "\"there’d’ve\": \"there would have\",\n",
    "\"there’s\": \"there is\",\n",
    "\"they’d\": \"they would\",\n",
    "\"they’d’ve\": \"they would have\",\n",
    "\"they’ll\": \"they will\",\n",
    "\"they’ll’ve\": \"they will have\",\n",
    "\"they’re\": \"they are\",\n",
    "\"they’ve\": \"they have\",\n",
    "\"to’ve\": \"to have\",\n",
    "\"wasn’t\": \"was not\",\n",
    "\"we’d\": \"we would\",\n",
    "\"we’d’ve\": \"we would have\",\n",
    "\"we’ll\": \"we will\",\n",
    "\"we’ll’ve\": \"we will have\",\n",
    "\"we’re\": \"we are\",\n",
    "\"we’ve\": \"we have\",\n",
    "\"weren’t\": \"were not\",\n",
    "\"what’ll\": \"what will\",\n",
    "\"what’ll’ve\": \"what will have\",\n",
    "\"what’re\": \"what are\",\n",
    "\"what’s\": \"what is\",\n",
    "\"what’ve\": \"what have\",\n",
    "\"when’s\": \"when is\",\n",
    "\"when’ve\": \"when have\",\n",
    "\"where’d\": \"where did\",\n",
    "\"where’s\": \"where is\",\n",
    "\"where’ve\": \"where have\",\n",
    "\"who’ll\": \"who will\",\n",
    "\"who’ll’ve\": \"who will have\",\n",
    "\"who’s\": \"who is\",\n",
    "\"who’ve\": \"who have\",\n",
    "\"why’s\": \"why is\",\n",
    "\"why’ve\": \"why have\",\n",
    "\"will’ve\": \"will have\",\n",
    "\"won’t\": \"will not\",\n",
    "\"won’t’ve\": \"will not have\",\n",
    "\"would’ve\": \"would have\",\n",
    "\"wouldn’t\": \"would not\",\n",
    "\"wouldn’t’ve\": \"would not have\",\n",
    "\"y’all\": \"you all\",\n",
    "\"y’all\": \"you all\",\n",
    "\"y’all’d\": \"you all would\",\n",
    "\"y’all’d’ve\": \"you all would have\",\n",
    "\"y’all’re\": \"you all are\",\n",
    "\"y’all’ve\": \"you all have\",\n",
    "\"you’d\": \"you would\",\n",
    "\"you’d’ve\": \"you would have\",\n",
    "\"you’ll\": \"you will\",\n",
    "\"you’ll’ve\": \"you will have\",\n",
    "\"you’re\": \"you are\",\n",
    "\"you’re\": \"you are\",\n",
    "\"you’ve\": \"you have\",\n",
    "}\n",
    "contractions_re = re.compile('(%s)' % '|'.join(contractions_dict.keys()))\n",
    "# Function to clean the html from the article\n",
    "def cleanhtml(raw_html):\n",
    "    cleanr = re.compile('<.*?>')\n",
    "    cleantext = re.sub(cleanr, '', raw_html)\n",
    "    return cleantext\n",
    "\n",
    "# Function expand the contractions if there's any\n",
    "def expand_contractions(s, contractions_dict=contractions_dict):\n",
    "    def replace(match):\n",
    "        return contractions_dict[match.group(0)]\n",
    "    return contractions_re.sub(replace, s)\n",
    "\n",
    "# Function to preprocess the articles\n",
    "def preprocessing(article):\n",
    "    global article_sent\n",
    "    \n",
    "    # Converting to lowercase\n",
    "    article = article.str.lower()\n",
    "    \n",
    "    # Removing the HTML\n",
    "    article = article.apply(lambda x: cleanhtml(x))\n",
    "    \n",
    "    # Removing the email ids\n",
    "    article = article.apply(lambda x: re.sub('\\S+@\\S+','', x))\n",
    "    \n",
    "    # Removing The URLS\n",
    "    article = article.apply(lambda x: re.sub(\"((http\\://|https\\://|ftp\\://)|(www.))+(([a-zA-Z0-9\\.-]+\\.[a-zA-Z]{2,4})|([0-9]{1,3}\\.[0-9]{1,3}\\.[0-9]{1,3}\\.[0-9]{1,3}))(/[a-zA-Z0-9%:/-_\\?\\.'~]*)?\",'', x))\n",
    "    \n",
    "    # Removing the '\\xa0'\n",
    "    article = article.apply(lambda x: x.replace(\"\\xa0\", \" \"))\n",
    "    \n",
    "    # Removing the contractions\n",
    "    article = article.apply(lambda x: expand_contractions(x))\n",
    "    \n",
    "    # Stripping the possessives\n",
    "    article = article.apply(lambda x: x.replace(\"'s\", ''))\n",
    "    article = article.apply(lambda x: x.replace('’s', ''))\n",
    "    article = article.apply(lambda x: x.replace(\"\\'s\", ''))\n",
    "    article = article.apply(lambda x: x.replace(\"\\’s\", ''))\n",
    "    \n",
    "    # Removing the Trailing and leading whitespace and double spaces\n",
    "    article = article.apply(lambda x: re.sub(' +', ' ',x))\n",
    "    \n",
    "    # Copying the article for the sentence tokenization\n",
    "    article_sent = article.copy()\n",
    "    \n",
    "    # Removing punctuations from the article\n",
    "    article = article.apply(lambda x: ''.join(word for word in x if word not in punctuation))\n",
    "    \n",
    "    # Removing the Trailing and leading whitespace and double spaces again as removing punctuation might\n",
    "    # Lead to a white space\n",
    "    article = article.apply(lambda x: re.sub(' +', ' ',x))\n",
    "    \n",
    "    # Removing the Stopwords\n",
    "    article = article.apply(lambda x: ' '.join(word for word in x.split() if word not in stop_words))\n",
    "    \n",
    "    return article\n",
    "\n",
    "# Function to normalize the word frequency which is used in the function word_frequency\n",
    "def normalize(li_word):\n",
    "    global normalized_freq\n",
    "    normalized_freq = []\n",
    "    for dictionary in li_word:\n",
    "        max_frequency = max(dictionary.values())\n",
    "        for word in dictionary.keys():\n",
    "            dictionary[word] = dictionary[word]/max_frequency\n",
    "        normalized_freq.append(dictionary)\n",
    "    return normalized_freq\n",
    "\n",
    "# Function to calculate the word frequency\n",
    "def word_frequency(article_word):\n",
    "    word_frequency = {}\n",
    "    li_word = []\n",
    "    for sentence in article_word:\n",
    "        for word in word_tokenize(sentence):\n",
    "            if word not in word_frequency.keys():\n",
    "                word_frequency[word] = 1\n",
    "            else:\n",
    "                word_frequency[word] += 1\n",
    "        li_word.append(word_frequency)\n",
    "        word_frequency = {}\n",
    "    normalize(li_word)\n",
    "    return normalized_freq\n",
    "\n",
    "# Function to Score the sentence which is called in the function sent_token\n",
    "def sentence_score(li):\n",
    "    global sentence_score_list\n",
    "    sentence_score = {}\n",
    "    sentence_score_list = []\n",
    "    for list_, dictionary in zip(li, normalized_freq):\n",
    "        for sent in list_:\n",
    "            for word in word_tokenize(sent):\n",
    "                if word in dictionary.keys():\n",
    "                    if sent not in sentence_score.keys():\n",
    "                        sentence_score[sent] = dictionary[word]\n",
    "                    else:\n",
    "                        sentence_score[sent] += dictionary[word]\n",
    "        sentence_score_list.append(sentence_score)\n",
    "        sentence_score = {}\n",
    "    return sentence_score_list\n",
    "\n",
    "# Function to tokenize the sentence\n",
    "def sent_token(article_sent):\n",
    "    sentence_list = []\n",
    "    sent_token = []\n",
    "    for sent in article_sent:\n",
    "        token = sent_tokenize(sent)\n",
    "        for sentence in token:\n",
    "            token_2 = ''.join(word for word in sentence if word not in punctuation)\n",
    "            token_2 = re.sub(' +', ' ',token_2)\n",
    "            sent_token.append(token_2)\n",
    "        sentence_list.append(sent_token)\n",
    "        sent_token = []\n",
    "    sentence_score(sentence_list)\n",
    "    return sentence_score_list\n",
    "\n",
    "# Function which generates the summary of the articles (This uses the 20% of the sentences with the highest score)\n",
    "def summary(sentence_score_OwO):\n",
    "    summary_list = []\n",
    "    for summ in sentence_score_OwO:\n",
    "        select_length = int(len(summ)*0.25)\n",
    "        summary_ = nlargest(select_length, summ, key = summ.get)\n",
    "        summary_list.append(\".\".join(summary_))\n",
    "    return summary_list\n",
    "\n",
    "\n",
    "# Functions to change the article string (if passed) to change it to generate a pandas series\n",
    "def make_series(art):\n",
    "    global dataframe\n",
    "    data_dict = {'article' : [art]}\n",
    "    dataframe = pd.DataFrame(data_dict)['article']\n",
    "    return dataframe\n",
    "\n",
    "# Function which is to be called to generate the summary which in further calls other functions alltogether\n",
    "def article_summarize(artefact):\n",
    "    \n",
    "    if type(artefact) != pd.Series:\n",
    "        artefact = make_series(artefact)\n",
    "    \n",
    "    df = preprocessing(artefact)\n",
    "    \n",
    "    word_normalization = word_frequency(df)\n",
    "    \n",
    "    sentence_score_OwO = sent_token(article_sent)\n",
    "    \n",
    "    summarized_article = summary(sentence_score_OwO)\n",
    "    \n",
    "    return summarized_article"
   ]
  },
  {
   "cell_type": "code",
   "execution_count": 17,
   "metadata": {
    "execution": {
     "iopub.execute_input": "2022-12-10T20:57:59.166694Z",
     "iopub.status.busy": "2022-12-10T20:57:59.145122Z",
     "iopub.status.idle": "2022-12-10T20:58:01.855777Z",
     "shell.execute_reply": "2022-12-10T20:58:01.855080Z",
     "shell.execute_reply.started": "2022-12-10T20:55:19.284209Z"
    },
    "papermill": {
     "duration": 2.756906,
     "end_time": "2022-12-10T20:58:01.855929",
     "exception": false,
     "start_time": "2022-12-10T20:57:59.099023",
     "status": "completed"
    },
    "tags": []
   },
   "outputs": [],
   "source": [
    "# Generating the Word Cloud of the article using the preprocessing and make_series function mentioned below\n",
    "def word_cloud(art):\n",
    "    art_ = make_series(art)\n",
    "    OwO = preprocessing(art_)\n",
    "    wordcloud_ = WordCloud(height = 500, width = 1000, background_color = 'white').generate(art)\n",
    "    plt.figure(figsize=(15, 10))\n",
    "    plt.imshow(wordcloud_, interpolation='bilinear')\n",
    "    plt.axis('off');\n",
    "# Generating the summaries for the first 100 articles\n",
    "summaries = article_summarize(df['article'][0:100])"
   ]
  },
  {
   "cell_type": "markdown",
   "metadata": {
    "papermill": {
     "duration": 0.028088,
     "end_time": "2022-12-10T20:58:01.911929",
     "exception": false,
     "start_time": "2022-12-10T20:58:01.883841",
     "status": "completed"
    },
    "tags": []
   },
   "source": [
    "---"
   ]
  },
  {
   "cell_type": "markdown",
   "metadata": {
    "papermill": {
     "duration": 0.027476,
     "end_time": "2022-12-10T20:58:01.967337",
     "exception": false,
     "start_time": "2022-12-10T20:58:01.939861",
     "status": "completed"
    },
    "tags": []
   },
   "source": [
    "## Testing the summarizer"
   ]
  },
  {
   "cell_type": "code",
   "execution_count": 18,
   "metadata": {
    "execution": {
     "iopub.execute_input": "2022-12-10T20:58:02.029767Z",
     "iopub.status.busy": "2022-12-10T20:58:02.028743Z",
     "iopub.status.idle": "2022-12-10T20:58:02.035160Z",
     "shell.execute_reply": "2022-12-10T20:58:02.034630Z",
     "shell.execute_reply.started": "2022-12-10T20:55:23.994014Z"
    },
    "papermill": {
     "duration": 0.039625,
     "end_time": "2022-12-10T20:58:02.035317",
     "exception": false,
     "start_time": "2022-12-10T20:58:01.995692",
     "status": "completed"
    },
    "tags": []
   },
   "outputs": [
    {
     "name": "stdout",
     "output_type": "stream",
     "text": [
      "The Actual length of the article is :  5607\n"
     ]
    },
    {
     "data": {
      "text/plain": [
       "'WASHINGTON  —   Congressional Republicans have a new fear when it comes to their    health care lawsuit against the Obama administration: They might win. The incoming Trump administration could choose to no longer defend the executive branch against the suit, which challenges the administration’s authority to spend billions of dollars on health insurance subsidies for   and   Americans, handing House Republicans a big victory on    issues. But a sudden loss of the disputed subsidies could conceivably cause the health care program to implode, leaving millions of people without access to health insurance before Republicans have prepared a replacement. That could lead to chaos in the insurance market and spur a political backlash just as Republicans gain full control of the government. To stave off that outcome, Republicans could find themselves in the awkward position of appropriating huge sums to temporarily prop up the Obama health care law, angering conservative voters who have been demanding an end to the law for years. In another twist, Donald J. Trump’s administration, worried about preserving executive branch prerogatives, could choose to fight its Republican allies in the House on some central questions in the dispute. Eager to avoid an ugly political pileup, Republicans on Capitol Hill and the Trump transition team are gaming out how to handle the lawsuit, which, after the election, has been put in limbo until at least late February by the United States Court of Appeals for the District of Columbia Circuit. They are not yet ready to divulge their strategy. “Given that this pending litigation involves the Obama administration and Congress, it would be inappropriate to comment,” said Phillip J. Blando, a spokesman for the Trump transition effort. “Upon taking office, the Trump administration will evaluate this case and all related aspects of the Affordable Care Act. ” In a potentially   decision in 2015, Judge Rosemary M. Collyer ruled that House Republicans had the standing to sue the executive branch over a spending dispute and that the Obama administration had been distributing the health insurance subsidies, in violation of the Constitution, without approval from Congress. The Justice Department, confident that Judge Collyer’s decision would be reversed, quickly appealed, and the subsidies have remained in place during the appeal. In successfully seeking a temporary halt in the proceedings after Mr. Trump won, House Republicans last month told the court that they “and the  ’s transition team currently are discussing potential options for resolution of this matter, to take effect after the  ’s inauguration on Jan. 20, 2017. ” The suspension of the case, House lawyers said, will “provide the   and his future administration time to consider whether to continue prosecuting or to otherwise resolve this appeal. ” Republican leadership officials in the House acknowledge the possibility of “cascading effects” if the   payments, which have totaled an estimated $13 billion, are suddenly stopped. Insurers that receive the subsidies in exchange for paying    costs such as deductibles and   for eligible consumers could race to drop coverage since they would be losing money. Over all, the loss of the subsidies could destabilize the entire program and cause a lack of confidence that leads other insurers to seek a quick exit as well. Anticipating that the Trump administration might not be inclined to mount a vigorous fight against the House Republicans given the  ’s dim view of the health care law, a team of lawyers this month sought to intervene in the case on behalf of two participants in the health care program. In their request, the lawyers predicted that a deal between House Republicans and the new administration to dismiss or settle the case “will produce devastating consequences for the individuals who receive these reductions, as well as for the nation’s health insurance and health care systems generally. ” No matter what happens, House Republicans say, they want to prevail on two overarching concepts: the congressional power of the purse, and the right of Congress to sue the executive branch if it violates the Constitution regarding that spending power. House Republicans contend that Congress never appropriated the money for the subsidies, as required by the Constitution. In the suit, which was initially championed by John A. Boehner, the House speaker at the time, and later in House committee reports, Republicans asserted that the administration, desperate for the funding, had required the Treasury Department to provide it despite widespread internal skepticism that the spending was proper. The White House said that the spending was a permanent part of the law passed in 2010, and that no annual appropriation was required  —   even though the administration initially sought one. Just as important to House Republicans, Judge Collyer found that Congress had the standing to sue the White House on this issue  —   a ruling that many legal experts said was flawed  —   and they want that precedent to be set to restore congressional leverage over the executive branch. But on spending power and standing, the Trump administration may come under pressure from advocates of presidential authority to fight the House no matter their shared views on health care, since those precedents could have broad repercussions. It is a complicated set of dynamics illustrating how a quick legal victory for the House in the Trump era might come with costs that Republicans never anticipated when they took on the Obama White House.'"
      ]
     },
     "execution_count": 18,
     "metadata": {},
     "output_type": "execute_result"
    }
   ],
   "source": [
    "print (\"The Actual length of the article is : \", len(df['article'][0]))\n",
    "df['article'][0]"
   ]
  },
  {
   "cell_type": "code",
   "execution_count": 19,
   "metadata": {
    "execution": {
     "iopub.execute_input": "2022-12-10T20:58:02.099441Z",
     "iopub.status.busy": "2022-12-10T20:58:02.098745Z",
     "iopub.status.idle": "2022-12-10T20:58:02.103438Z",
     "shell.execute_reply": "2022-12-10T20:58:02.102808Z",
     "shell.execute_reply.started": "2022-12-10T20:55:24.578374Z"
    },
    "papermill": {
     "duration": 0.038506,
     "end_time": "2022-12-10T20:58:02.103594",
     "exception": false,
     "start_time": "2022-12-10T20:58:02.065088",
     "status": "completed"
    },
    "tags": []
   },
   "outputs": [
    {
     "name": "stdout",
     "output_type": "stream",
     "text": [
      "The length of the summarized article is :  1682\n"
     ]
    },
    {
     "data": {
      "text/plain": [
       "'anticipating that the trump administration might not be inclined to mount a vigorous fight against the house republicans given the dim view of the health care law a team of lawyers this month sought to intervene in the case on behalf of two participants in the health care program.the incoming trump administration could choose to no longer defend the executive branch against the suit which challenges the administration authority to spend billions of dollars on health insurance subsidies for and americans handing house republicans a big victory on issues. in a potentially decision in 2015 judge rosemary m collyer ruled that house republicans had the standing to sue the executive branch over a spending dispute and that the obama administration had been distributing the health insurance subsidies in violation of the constitution without approval from congress.in their request the lawyers predicted that a deal between house republicans and the new administration to dismiss or settle the case will produce devastating consequences for the individuals who receive these reductions as well as for the nation health insurance and health care systems generally.just as important to house republicans judge collyer found that congress had the standing to sue the white house on this issue a ruling that many legal experts said was flawed and they want that precedent to be set to restore congressional leverage over the executive branch.but on spending power and standing the trump administration may come under pressure from advocates of presidential authority to fight the house no matter their shared views on health care since those precedents could have broad repercussions'"
      ]
     },
     "execution_count": 19,
     "metadata": {},
     "output_type": "execute_result"
    }
   ],
   "source": [
    "print (\"The length of the summarized article is : \", len(summaries[0]))\n",
    "summaries[0]"
   ]
  }
 ],
 "metadata": {
  "kernelspec": {
   "display_name": "Python 3",
   "language": "python",
   "name": "python3"
  },
  "language_info": {
   "codemirror_mode": {
    "name": "ipython",
    "version": 3
   },
   "file_extension": ".py",
   "mimetype": "text/x-python",
   "name": "python",
   "nbconvert_exporter": "python",
   "pygments_lexer": "ipython3",
   "version": "3.7.9"
  },
  "papermill": {
   "default_parameters": {},
   "duration": 34.917364,
   "end_time": "2022-12-10T20:58:03.908478",
   "environment_variables": {},
   "exception": null,
   "input_path": "__notebook__.ipynb",
   "output_path": "__notebook__.ipynb",
   "parameters": {},
   "start_time": "2022-12-10T20:57:28.991114",
   "version": "2.2.2"
  }
 },
 "nbformat": 4,
 "nbformat_minor": 4
}
